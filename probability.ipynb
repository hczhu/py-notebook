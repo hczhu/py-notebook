{
 "cells": [
  {
   "cell_type": "code",
   "execution_count": 7,
   "metadata": {},
   "outputs": [
    {
     "ename": "RuntimeError",
     "evalue": "numel: integer multiplication overflow",
     "output_type": "error",
     "traceback": [
      "\u001b[0;31m---------------------------------------------------------------------------\u001b[0m",
      "\u001b[0;31mRuntimeError\u001b[0m                              Traceback (most recent call last)",
      "\u001b[1;32m/Users/hc/code_recipes/notebooks/probability.ipynb Cell 1\u001b[0m line \u001b[0;36m7\n\u001b[1;32m      <a href='vscode-notebook-cell:/Users/hc/code_recipes/notebooks/probability.ipynb#W0sZmlsZQ%3D%3D?line=3'>4</a>\u001b[0m days_of_year \u001b[39m=\u001b[39m \u001b[39m365\u001b[39m\n\u001b[1;32m      <a href='vscode-notebook-cell:/Users/hc/code_recipes/notebooks/probability.ipynb#W0sZmlsZQ%3D%3D?line=5'>6</a>\u001b[0m times \u001b[39m=\u001b[39m torch\u001b[39m.\u001b[39mlinspace(\u001b[39m0\u001b[39m, days_of_year, steps\u001b[39m=\u001b[39mdays_of_year\u001b[39m+\u001b[39m\u001b[39m1\u001b[39m, requires_grad\u001b[39m=\u001b[39m\u001b[39mFalse\u001b[39;00m)\n\u001b[0;32m----> <a href='vscode-notebook-cell:/Users/hc/code_recipes/notebooks/probability.ipynb#W0sZmlsZQ%3D%3D?line=6'>7</a>\u001b[0m combinations \u001b[39m=\u001b[39m torch\u001b[39m.\u001b[39;49mcombinations(torch\u001b[39m.\u001b[39;49marange(days_of_year), r\u001b[39m=\u001b[39;49mdays_of_year)\n\u001b[1;32m      <a href='vscode-notebook-cell:/Users/hc/code_recipes/notebooks/probability.ipynb#W0sZmlsZQ%3D%3D?line=7'>8</a>\u001b[0m \u001b[39mprint\u001b[39m(combinations\u001b[39m.\u001b[39mshape)\n",
      "\u001b[0;31mRuntimeError\u001b[0m: numel: integer multiplication overflow"
     ]
    }
   ],
   "source": [
    "import torch\n",
    "import numpy as np\n",
    "\n",
    "win, lose = 1.2, 0.8\n",
    "Y = 365\n",
    "\n",
    "# W wins, L loses\n",
    "# W + L = Y\n",
    "# money = choose(W, Y) * win^W * lose^L = Y!/(W!L!) * win^W * lose^L\n",
    "# = \n",
    "\n",
    "\n",
    "# times = torch.linspace(0, days_of_year, steps=days_of_year+1, requires_grad=False)\n",
    "# combinations = torch.combinations(torch.arange(days_of_year), r=days_of_year)\n",
    "# print(combinations.shape)\n"
   ]
  }
 ],
 "metadata": {
  "kernelspec": {
   "display_name": "Python 3",
   "language": "python",
   "name": "python3"
  },
  "language_info": {
   "codemirror_mode": {
    "name": "ipython",
    "version": 3
   },
   "file_extension": ".py",
   "mimetype": "text/x-python",
   "name": "python",
   "nbconvert_exporter": "python",
   "pygments_lexer": "ipython3",
   "version": "3.11.2"
  }
 },
 "nbformat": 4,
 "nbformat_minor": 2
}
