{
 "cells": [
  {
   "cell_type": "code",
   "execution_count": 2,
   "id": "64ede963",
   "metadata": {},
   "outputs": [
    {
     "name": "stdout",
     "output_type": "stream",
     "text": [
      "Using cuda device\n",
      "NeuralNetwork(\n",
      "  (flatten): Flatten(start_dim=1, end_dim=-1)\n",
      "  (linear_relu_stack): Sequential(\n",
      "    (0): Linear(in_features=784, out_features=512, bias=True)\n",
      "    (1): ReLU()\n",
      "    (2): Linear(in_features=512, out_features=512, bias=True)\n",
      "    (3): ReLU()\n",
      "    (4): Linear(in_features=512, out_features=10, bias=True)\n",
      "  )\n",
      ")\n"
     ]
    }
   ],
   "source": [
    "import torch\n",
    "from torch import nn\n",
    "# Get cpu, gpu or mps device for training.\n",
    "device = (\n",
    "    \"cuda\"\n",
    "    if torch.cuda.is_available()\n",
    "    else \"mps\"\n",
    "    if torch.backends.mps.is_available()\n",
    "    else \"cpu\"\n",
    ")\n",
    "print(f\"Using {device} device\")\n",
    "\n",
    "# Define model\n",
    "class NeuralNetwork(nn.Module):\n",
    "    def __init__(self):\n",
    "        super().__init__()\n",
    "        self.flatten = nn.Flatten()\n",
    "        self.linear_relu_stack = nn.Sequential(\n",
    "            nn.Linear(28*28, 512),\n",
    "            nn.ReLU(),\n",
    "            nn.Linear(512, 512),\n",
    "            nn.ReLU(),\n",
    "            nn.Linear(512, 10)\n",
    "        )\n",
    "\n",
    "    def forward(self, x):\n",
    "        x = self.flatten(x)\n",
    "        logits = self.linear_relu_stack(x)\n",
    "        return logits\n",
    "\n",
    "model = NeuralNetwork().to(device)\n",
    "print(model)"
   ]
  },
  {
   "cell_type": "code",
   "execution_count": 3,
   "id": "eb44bfbd",
   "metadata": {},
   "outputs": [
    {
     "name": "stdout",
     "output_type": "stream",
     "text": [
      "Predicted class: tensor([6], device='cuda:0')\n"
     ]
    }
   ],
   "source": [
    "X = torch.rand(1, 28, 28, device=device)\n",
    "logits = model(X)\n",
    "pred_probab = nn.Softmax(dim=1)(logits)\n",
    "y_pred = pred_probab.argmax(1)\n",
    "print(f\"Predicted class: {y_pred}\")"
   ]
  },
  {
   "cell_type": "code",
   "execution_count": 4,
   "id": "3ae95e34",
   "metadata": {},
   "outputs": [
    {
     "name": "stdout",
     "output_type": "stream",
     "text": [
      "torch.Size([3, 28, 28])\n"
     ]
    }
   ],
   "source": [
    "input_image = torch.rand(3,28,28)\n",
    "print(input_image.size())"
   ]
  },
  {
   "cell_type": "code",
   "execution_count": 5,
   "id": "771dabdb",
   "metadata": {},
   "outputs": [
    {
     "name": "stdout",
     "output_type": "stream",
     "text": [
      "torch.Size([3, 784])\n"
     ]
    }
   ],
   "source": [
    "flatten = nn.Flatten()\n",
    "flat_image = flatten(input_image)\n",
    "print(flat_image.size())"
   ]
  },
  {
   "cell_type": "code",
   "execution_count": 8,
   "id": "6e530801",
   "metadata": {},
   "outputs": [
    {
     "name": "stdout",
     "output_type": "stream",
     "text": [
      "torch.Size([3, 20])\n",
      "torch.Size([3, 20])\n"
     ]
    }
   ],
   "source": [
    "layer1 = nn.Linear(in_features=28*28, out_features=20)\n",
    "hidden1 = layer1(flat_image)\n",
    "print(hidden1.size())\n",
    "print(hidden1.shape)"
   ]
  },
  {
   "cell_type": "code",
   "execution_count": 11,
   "id": "e5c200b6",
   "metadata": {},
   "outputs": [
    {
     "name": "stdout",
     "output_type": "stream",
     "text": [
      "Before ReLU: tensor([[0.0748, 0.3736, 0.0000, 0.1724, 0.1239, 0.0000, 0.4207, 0.3042, 0.0000,\n",
      "         0.0000, 0.0000, 0.0263, 0.0000, 0.3385, 0.1005, 0.0000, 0.0000, 0.5949,\n",
      "         0.0125, 0.0000],\n",
      "        [0.0000, 0.5874, 0.0000, 0.1899, 0.0860, 0.0000, 0.1350, 0.2278, 0.0000,\n",
      "         0.0000, 0.0961, 0.0000, 0.0000, 0.4699, 0.0609, 0.0000, 0.0000, 0.3000,\n",
      "         0.0953, 0.0000],\n",
      "        [0.0000, 0.4009, 0.0000, 0.5745, 0.1209, 0.0000, 0.2611, 0.2924, 0.0000,\n",
      "         0.0000, 0.0706, 0.0000, 0.2296, 0.3587, 0.1582, 0.0000, 0.0000, 0.1639,\n",
      "         0.0000, 0.0000]], grad_fn=<ReluBackward0>)\n",
      "\n",
      "\n",
      "tensor([[0.0748, 0.3736, 0.0000, 0.1724, 0.1239, 0.0000, 0.4207, 0.3042, 0.0000,\n",
      "         0.0000, 0.0000, 0.0263, 0.0000, 0.3385, 0.1005, 0.0000, 0.0000, 0.5949,\n",
      "         0.0125, 0.0000],\n",
      "        [0.0000, 0.5874, 0.0000, 0.1899, 0.0860, 0.0000, 0.1350, 0.2278, 0.0000,\n",
      "         0.0000, 0.0961, 0.0000, 0.0000, 0.4699, 0.0609, 0.0000, 0.0000, 0.3000,\n",
      "         0.0953, 0.0000],\n",
      "        [0.0000, 0.4009, 0.0000, 0.5745, 0.1209, 0.0000, 0.2611, 0.2924, 0.0000,\n",
      "         0.0000, 0.0706, 0.0000, 0.2296, 0.3587, 0.1582, 0.0000, 0.0000, 0.1639,\n",
      "         0.0000, 0.0000]], grad_fn=<MulBackward0>)\n",
      "After ReLU: tensor([[0.0748, 0.3736, 0.0000, 0.1724, 0.1239, 0.0000, 0.4207, 0.3042, 0.0000,\n",
      "         0.0000, 0.0000, 0.0263, 0.0000, 0.3385, 0.1005, 0.0000, 0.0000, 0.5949,\n",
      "         0.0125, 0.0000],\n",
      "        [0.0000, 0.5874, 0.0000, 0.1899, 0.0860, 0.0000, 0.1350, 0.2278, 0.0000,\n",
      "         0.0000, 0.0961, 0.0000, 0.0000, 0.4699, 0.0609, 0.0000, 0.0000, 0.3000,\n",
      "         0.0953, 0.0000],\n",
      "        [0.0000, 0.4009, 0.0000, 0.5745, 0.1209, 0.0000, 0.2611, 0.2924, 0.0000,\n",
      "         0.0000, 0.0706, 0.0000, 0.2296, 0.3587, 0.1582, 0.0000, 0.0000, 0.1639,\n",
      "         0.0000, 0.0000]], grad_fn=<ReluBackward0>)\n"
     ]
    }
   ],
   "source": [
    "print(f\"Before ReLU: {hidden1}\\n\\n\")\n",
    "\n",
    "hidden1_ = hidden1 * (hidden1 > 0)\n",
    "print(f\"{hidden1_}\")\n",
    "hidden1 = nn.ReLU()(hidden1)\n",
    "print(f\"After ReLU: {hidden1}\")\n"
   ]
  },
  {
   "cell_type": "code",
   "execution_count": 21,
   "id": "ead6d926",
   "metadata": {},
   "outputs": [],
   "source": [
    "x = torch.ones(5) # input tensor\n",
    "y = torch.zeros(3)  # expected output\n",
    "w = torch.randn(5, 3, requires_grad=True)\n",
    "b = torch.randn(3, requires_grad=True)\n",
    "z = torch.matmul(x, w)+b\n",
    "loss = torch.nn.functional.binary_cross_entropy_with_logits(z, y)"
   ]
  },
  {
   "cell_type": "code",
   "execution_count": 22,
   "id": "646fb16c",
   "metadata": {},
   "outputs": [
    {
     "name": "stdout",
     "output_type": "stream",
     "text": [
      "1.649733543395996\n"
     ]
    }
   ],
   "source": [
    "print(f\"{loss}\")"
   ]
  },
  {
   "cell_type": "code",
   "execution_count": 23,
   "id": "6456b35d",
   "metadata": {},
   "outputs": [
    {
     "name": "stdout",
     "output_type": "stream",
     "text": [
      "tensor([ 1.9900, -2.4200,  2.6795], grad_fn=<AddBackward0>)\n"
     ]
    }
   ],
   "source": [
    "print(f\"{z}\")"
   ]
  },
  {
   "cell_type": "code",
   "execution_count": 24,
   "id": "4d38f099",
   "metadata": {},
   "outputs": [
    {
     "name": "stdout",
     "output_type": "stream",
     "text": [
      "Gradient function for z = <AddBackward0 object at 0x7f8e7e44dc90>\n",
      "Gradient function for loss = <BinaryCrossEntropyWithLogitsBackward0 object at 0x7f8d73cfebc0>\n"
     ]
    }
   ],
   "source": [
    "print(f\"Gradient function for z = {z.grad_fn}\")\n",
    "print(f\"Gradient function for loss = {loss.grad_fn}\")"
   ]
  },
  {
   "cell_type": "code",
   "execution_count": 25,
   "id": "be371f63",
   "metadata": {},
   "outputs": [
    {
     "name": "stdout",
     "output_type": "stream",
     "text": [
      "tensor([[0.2932, 0.0272, 0.3119],\n",
      "        [0.2932, 0.0272, 0.3119],\n",
      "        [0.2932, 0.0272, 0.3119],\n",
      "        [0.2932, 0.0272, 0.3119],\n",
      "        [0.2932, 0.0272, 0.3119]])\n",
      "tensor([0.2932, 0.0272, 0.3119])\n"
     ]
    }
   ],
   "source": [
    "loss.backward()\n",
    "print(w.grad)\n",
    "print(b.grad)"
   ]
  },
  {
   "cell_type": "code",
   "execution_count": 26,
   "id": "f9784eec",
   "metadata": {},
   "outputs": [
    {
     "name": "stdout",
     "output_type": "stream",
     "text": [
      "True\n",
      "False\n"
     ]
    }
   ],
   "source": [
    "z = torch.matmul(x, w)+b\n",
    "print(z.requires_grad)\n",
    "\n",
    "with torch.no_grad():\n",
    "    z = torch.matmul(x, w)+b\n",
    "print(z.requires_grad)"
   ]
  },
  {
   "cell_type": "code",
   "execution_count": 27,
   "id": "8e0a22cc",
   "metadata": {},
   "outputs": [
    {
     "name": "stdout",
     "output_type": "stream",
     "text": [
      "False\n"
     ]
    }
   ],
   "source": [
    "z = torch.matmul(x, w)+b\n",
    "z_det = z.detach()\n",
    "print(z_det.requires_grad)"
   ]
  },
  {
   "cell_type": "code",
   "execution_count": 28,
   "id": "4036e8fa",
   "metadata": {},
   "outputs": [
    {
     "name": "stdout",
     "output_type": "stream",
     "text": [
      "First call\n",
      "tensor([[4., 2., 2., 2., 2.],\n",
      "        [2., 4., 2., 2., 2.],\n",
      "        [2., 2., 4., 2., 2.],\n",
      "        [2., 2., 2., 4., 2.]])\n",
      "\n",
      "Second call\n",
      "tensor([[8., 4., 4., 4., 4.],\n",
      "        [4., 8., 4., 4., 4.],\n",
      "        [4., 4., 8., 4., 4.],\n",
      "        [4., 4., 4., 8., 4.]])\n",
      "\n",
      "Call after zeroing gradients\n",
      "tensor([[4., 2., 2., 2., 2.],\n",
      "        [2., 4., 2., 2., 2.],\n",
      "        [2., 2., 4., 2., 2.],\n",
      "        [2., 2., 2., 4., 2.]])\n"
     ]
    }
   ],
   "source": [
    "inp = torch.eye(4, 5, requires_grad=True)\n",
    "out = (inp+1).pow(2).t()\n",
    "out.backward(torch.ones_like(out), retain_graph=True)\n",
    "print(f\"First call\\n{inp.grad}\")\n",
    "out.backward(torch.ones_like(out), retain_graph=True)\n",
    "print(f\"\\nSecond call\\n{inp.grad}\")\n",
    "inp.grad.zero_()\n",
    "out.backward(torch.ones_like(out), retain_graph=True)\n",
    "print(f\"\\nCall after zeroing gradients\\n{inp.grad}\")"
   ]
  },
  {
   "cell_type": "code",
   "execution_count": null,
   "id": "79d9b04f",
   "metadata": {},
   "outputs": [],
   "source": []
  }
 ],
 "metadata": {
  "kernelspec": {
   "display_name": "Python 3 (ipykernel)",
   "language": "python",
   "name": "python3"
  },
  "language_info": {
   "codemirror_mode": {
    "name": "ipython",
    "version": 3
   },
   "file_extension": ".py",
   "mimetype": "text/x-python",
   "name": "python",
   "nbconvert_exporter": "python",
   "pygments_lexer": "ipython3",
   "version": "3.10.6"
  }
 },
 "nbformat": 4,
 "nbformat_minor": 5
}
