{
 "cells": [
  {
   "cell_type": "code",
   "execution_count": 25,
   "id": "0eea31dc-d187-49d1-af5e-bdfec9f69d58",
   "metadata": {},
   "outputs": [
    {
     "name": "stdout",
     "output_type": "stream",
     "text": [
      "Alice winning chance: 0.4576402591810187\n",
      "Bob winning chance: 0.4858327983342406\n",
      "Tie chance: 0.056526942484740696\n"
     ]
    }
   ],
   "source": [
    "import copy\n",
    "zeros = [\n",
    "    [0] * 201,\n",
    "    [0] * 201,\n",
    "]\n",
    "dp = copy.deepcopy(zeros)\n",
    "dp[0][100] = dp[1][100] = 1\n",
    "N = 100\n",
    "# 0 is \"H\" and 1 is \"T\".\n",
    "for itr in range(N - 1):\n",
    "    # print(f\" ==== iteration ===== {itr}\")\n",
    "    next_dp = copy.deepcopy(zeros)\n",
    "    for net_score in range(201):\n",
    "        for coin in range(2):\n",
    "            if (d := dp[coin][net_score]) > 0:\n",
    "                for nc in range(2):\n",
    "                    next_net_score = net_score\n",
    "                    if coin == 0 and nc == 0:\n",
    "                        next_net_score += 1\n",
    "                    elif coin == 0 and nc == 1:\n",
    "                        next_net_score -= 1\n",
    "                    next_dp[nc][next_net_score] += d\n",
    "    dp = next_dp\n",
    "\n",
    "alice = sum(dp[0][101:] + dp[1][101:])\n",
    "bob = sum(dp[0][:100] + dp[1][:100])\n",
    "tie = dp[0][100] + dp[1][100]\n",
    "all = alice + bob + tie\n",
    "assert all == 2**N, (all, 2**N)\n",
    "\n",
    "print(f\"Alice winning chance: {alice / all}\")\n",
    "print(f\"Bob winning chance: {bob / all}\")\n",
    "print(f\"Tie chance: {tie / all}\")"
   ]
  },
  {
   "cell_type": "code",
   "execution_count": null,
   "id": "43d92504-0f6e-4667-9d79-1b13b378ee7b",
   "metadata": {},
   "outputs": [],
   "source": []
  }
 ],
 "metadata": {
  "kernelspec": {
   "display_name": "Python 3 (ipykernel)",
   "language": "python",
   "name": "python3"
  },
  "language_info": {
   "codemirror_mode": {
    "name": "ipython",
    "version": 3
   },
   "file_extension": ".py",
   "mimetype": "text/x-python",
   "name": "python",
   "nbconvert_exporter": "python",
   "pygments_lexer": "ipython3",
   "version": "3.12.0"
  }
 },
 "nbformat": 4,
 "nbformat_minor": 5
}
